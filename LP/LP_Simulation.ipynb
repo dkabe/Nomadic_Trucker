{
 "cells": [
  {
   "cell_type": "code",
   "execution_count": 8,
   "metadata": {},
   "outputs": [],
   "source": [
    "# from gurobipy import * # requires gurobi package installed\n",
    "import numpy as np\n",
    "import time\n",
    "import pickle"
   ]
  },
  {
   "cell_type": "code",
   "execution_count": 9,
   "metadata": {},
   "outputs": [],
   "source": [
    "from nomadic_trucker_new import nomadictrucker"
   ]
  },
  {
   "cell_type": "code",
   "execution_count": 10,
   "metadata": {},
   "outputs": [],
   "source": [
    "def LP_Simulation(model, pi_s, load_list):\n",
    "    total_reward = 0\n",
    "    next_state = 0\n",
    "    for i in range(1000):\n",
    "\n",
    "        predicted_optimal_action = pi_s[next_state]\n",
    "        reward = model['get_rewards'](next_state, predicted_optimal_action)\n",
    "        total_reward += reward\n",
    "        truck_location, day, trailer, load = model['get_actual_next_grid_state'](predicted_optimal_action, (next_state))\n",
    "        load = load_list[i]\n",
    "        next_state = model['get_numeric_state_nomadic_trucker'](truck_location, day, trailer, load)\n",
    "\n",
    "    return total_reward"
   ]
  },
  {
   "cell_type": "code",
   "execution_count": 15,
   "metadata": {},
   "outputs": [],
   "source": [
    "s = [2, 3]\n",
    "d = [1, 3, 7]\n",
    "t = [1, 3, 3]"
   ]
  },
  {
   "cell_type": "code",
   "execution_count": 16,
   "metadata": {},
   "outputs": [
    {
     "name": "stdout",
     "output_type": "stream",
     "text": [
      "Result for 64 states: 141462.46324000016\n",
      "Result for 576 states: 224911.66176500006\n",
      "Result for 1344 states: 214312.68893000006\n",
      "Result for 4608 states: 349182.7876100002\n"
     ]
    }
   ],
   "source": [
    "for size in s:\n",
    "    if size == 2:\n",
    "        for days, trailers in zip(d,t):\n",
    "            model = nomadictrucker(size,days,trailers)\n",
    "            pi_s = pickle.load(open(\"pi_\"+str(len(model['states']))+\".pickle\",\"rb\"))\n",
    "            load_list = pickle.load(open(\"Load_\"+str(size)+\"_\"+str(days)+\".pickle\", \"rb\"))\n",
    "            Result = LP_Simulation(model, pi_s, load_list)\n",
    "            print(\"Result for\",str(len(model['states'])), \"states:\", Result)\n",
    "\n",
    "    \n",
    "    else:\n",
    "        model = nomadictrucker(size,1,1)\n",
    "        pi_s = pickle.load(open(\"pi_\"+str(len(model['states']))+\".pickle\",\"rb\"))\n",
    "        load_list = pickle.load(open(\"Load_3_1.pickle\", \"rb\"))\n",
    "        Result = LP_Simulation(model, pi_s, load_list)      \n",
    "        print(\"Result for\",str(len(model['states'])), \"states:\", Result)\n"
   ]
  },
  {
   "cell_type": "code",
   "execution_count": null,
   "metadata": {},
   "outputs": [],
   "source": []
  }
 ],
 "metadata": {
  "kernelspec": {
   "display_name": "Python 3",
   "language": "python",
   "name": "python3"
  },
  "language_info": {
   "codemirror_mode": {
    "name": "ipython",
    "version": 3
   },
   "file_extension": ".py",
   "mimetype": "text/x-python",
   "name": "python",
   "nbconvert_exporter": "python",
   "pygments_lexer": "ipython3",
   "version": "3.7.6"
  }
 },
 "nbformat": 4,
 "nbformat_minor": 4
}
