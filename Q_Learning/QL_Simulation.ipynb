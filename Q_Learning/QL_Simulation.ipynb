{
 "cells": [
  {
   "cell_type": "code",
   "execution_count": 1,
   "metadata": {},
   "outputs": [],
   "source": [
    "from nomadic_trucker_new import nomadictrucker\n",
    "import numpy as np\n",
    "from random import randint\n",
    "import scipy\n",
    "from collections import defaultdict\n",
    "import itertools\n",
    "import pickle\n",
    "import math\n",
    "import time"
   ]
  },
  {
   "cell_type": "code",
   "execution_count": 2,
   "metadata": {},
   "outputs": [],
   "source": [
    "def QL_Simulation(model, Q, visited_states, load_list):\n",
    "    total_reward = 0\n",
    "    next_state= 0\n",
    "    for i in range(1000):\n",
    "        if next_state in visited_states:\n",
    "            predicted_optimal_action = np.argmax(Q[next_state]) # best action is maximum Q value\n",
    "        else:\n",
    "            predicted_optimal_action =  np.random.randint(model['num_possible_actions'])\n",
    "            # choose action 0 if state is not in visited states\n",
    "        reward = model['get_rewards'](next_state, predicted_optimal_action)\n",
    "\n",
    "        total_reward += reward\n",
    "\n",
    "        truck_location, day, trailer, load = model['get_actual_next_grid_state'](predicted_optimal_action, (next_state)) # move to next state\n",
    "\n",
    "        load = load_list[i]\n",
    "        if load[truck_location]==1:\n",
    "            load[truck_location] = 0\n",
    "        \n",
    "        next_state = model['get_numeric_state_nomadic_trucker'](truck_location, day, trailer, load)\n",
    "    return total_reward\n",
    "    "
   ]
  },
  {
   "cell_type": "code",
   "execution_count": 3,
   "metadata": {},
   "outputs": [],
   "source": [
    "# possible states\n",
    "s = [2, 3]\n",
    "\n",
    "# possible days\n",
    "d = [1, 3, 7]\n",
    "\n",
    "# possible trailer types\n",
    "t = [1, 3, 3]"
   ]
  },
  {
   "cell_type": "code",
   "execution_count": 4,
   "metadata": {},
   "outputs": [
    {
     "name": "stdout",
     "output_type": "stream",
     "text": [
      "Result for 64 states: 134530.59952000022\n",
      "Result for 576 states: 141667.00795499986\n",
      "Result for 1344 states: 123192.32879000003\n",
      "Result for 4608 states: 228879.96592666747\n",
      "Result for 41472 states: 21210.113866666667\n",
      "Result for 96768 states: 33925.89244999999\n"
     ]
    }
   ],
   "source": [
    "for size in s:\n",
    "    for days, trailers in zip(d,t):\n",
    "        model = nomadictrucker(size,days,trailers)\n",
    "        load_list = pickle.load(open(\"Load_\"+str(size)+\"_\"+str(days)+\".pickle\", \"rb\"))\n",
    "        visited_states = pickle.load(open(\"visited_states_nomadic_\"+str(size)+\"_\"+str(days)+\"d_\"+str(trailers)+\"t.pickle\",\"rb\"))\n",
    "        Q = pickle.load(open(\"Q_nomadic_\"+str(size)+\"_\"+str(days)+\"d_\"+str(trailers)+\"t.pickle\",\"rb\"))\n",
    "        Result = QL_Simulation(model, Q, visited_states, load_list)\n",
    "        print(\"Result for\",str(len(model['states'])), \"states:\", Result)\n"
   ]
  },
  {
   "cell_type": "code",
   "execution_count": null,
   "metadata": {},
   "outputs": [],
   "source": []
  }
 ],
 "metadata": {
  "kernelspec": {
   "display_name": "Python 3",
   "language": "python",
   "name": "python3"
  },
  "language_info": {
   "codemirror_mode": {
    "name": "ipython",
    "version": 3
   },
   "file_extension": ".py",
   "mimetype": "text/x-python",
   "name": "python",
   "nbconvert_exporter": "python",
   "pygments_lexer": "ipython3",
   "version": "3.7.6"
  }
 },
 "nbformat": 4,
 "nbformat_minor": 4
}
