{
 "cells": [
  {
   "cell_type": "code",
   "execution_count": 4,
   "metadata": {},
   "outputs": [],
   "source": [
    "from random import randint\n",
    "import itertools\n",
    "import time\n",
    "import pickle\n",
    "import numpy as np\n",
    "from nomadic_trucker_new import nomadictrucker"
   ]
  },
  {
   "cell_type": "code",
   "execution_count": 5,
   "metadata": {},
   "outputs": [],
   "source": [
    "def get_benchmark_action(state):\n",
    "    truck_location = model['get_state_exp'](state)[0]\n",
    "    load = model['get_state_exp'](state)[3]\n",
    "\n",
    "    if all(load_item == 0 for load_item in load): # if everything in the load vector is 0, stay at current location\n",
    "        predicted_optimal_action = truck_location\n",
    "\n",
    "    else:\n",
    "        distances = []\n",
    "        indices = []\n",
    "        for i in range(len(load)):\n",
    "            if load[i] == 1:\n",
    "                distance = model['get_distance'](truck_location, i)\n",
    "                distances.append(distance)\n",
    "                indices.append(i)\n",
    "\n",
    "        furthest_distance = max(distances)\n",
    "        furthest_distance_index = indices[distances.index(furthest_distance)]\n",
    "        predicted_optimal_action = furthest_distance_index # go to the location furthest away that needs a load delivered\n",
    "\n",
    "    return predicted_optimal_action"
   ]
  },
  {
   "cell_type": "code",
   "execution_count": 6,
   "metadata": {},
   "outputs": [],
   "source": [
    "s = [2, 3]\n",
    "d = [1, 3, 7]\n",
    "t = [1, 3, 3]"
   ]
  },
  {
   "cell_type": "code",
   "execution_count": 7,
   "metadata": {},
   "outputs": [
    {
     "name": "stdout",
     "output_type": "stream",
     "text": [
      "64 time:  0.0013339519500732422\n",
      "576 time:  0.009931087493896484\n",
      "1344 time:  0.025856971740722656\n",
      "4608 time:  0.09387588500976562\n",
      "41472 time:  0.7441163063049316\n",
      "96768 time:  1.5874850749969482\n"
     ]
    }
   ],
   "source": [
    "for size in s:\n",
    "    for days, trailers in zip(d,t):\n",
    "        model = nomadictrucker(size,days,trailers)\n",
    "        start_time = time.time()\n",
    "        benchmarks = [get_benchmark_action(i) for i in model['states']]\n",
    "        end_time = time.time()\n",
    "        with open('Benchmark'+str(len(model['states']))+'.pickle', 'wb') as fp:\n",
    "            pickle.dump(benchmarks, fp)\n",
    "        print(len(model['states']), \"time: \", end_time - start_time)   "
   ]
  }
 ],
 "metadata": {
  "kernelspec": {
   "display_name": "Python 3",
   "language": "python",
   "name": "python3"
  },
  "language_info": {
   "codemirror_mode": {
    "name": "ipython",
    "version": 3
   },
   "file_extension": ".py",
   "mimetype": "text/x-python",
   "name": "python",
   "nbconvert_exporter": "python",
   "pygments_lexer": "ipython3",
   "version": "3.7.6"
  }
 },
 "nbformat": 4,
 "nbformat_minor": 4
}
