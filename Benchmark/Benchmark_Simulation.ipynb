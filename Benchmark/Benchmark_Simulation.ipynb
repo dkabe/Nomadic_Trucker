{
 "cells": [
  {
   "cell_type": "code",
   "execution_count": 10,
   "metadata": {},
   "outputs": [],
   "source": [
    "from random import randint\n",
    "import itertools\n",
    "import time\n",
    "import pickle\n",
    "import numpy as np\n",
    "from nomadic_trucker_new import nomadictrucker"
   ]
  },
  {
   "cell_type": "code",
   "execution_count": 17,
   "metadata": {},
   "outputs": [],
   "source": [
    "def get_benchmark_action(state):\n",
    "    truck_location = model['get_state_exp'](state)[0]\n",
    "    load = model['get_state_exp'](state)[3]\n",
    "\n",
    "    if all(load_item == 0 for load_item in load): # if everything in the load vector is 0, stay at current location\n",
    "        predicted_optimal_action = truck_location\n",
    "\n",
    "    else:\n",
    "        distances = []\n",
    "        indices = []\n",
    "        for i in range(len(load)):\n",
    "            if load[i] == 1:\n",
    "                distance = model['get_distance'](truck_location, i)\n",
    "                distances.append(distance)\n",
    "                indices.append(i)\n",
    "\n",
    "        furthest_distance = max(distances)\n",
    "        furthest_distance_index = indices[distances.index(furthest_distance)]\n",
    "        predicted_optimal_action = furthest_distance_index # go to the location furthest away that needs a load delivered\n",
    "\n",
    "    return predicted_optimal_action"
   ]
  },
  {
   "cell_type": "code",
   "execution_count": 21,
   "metadata": {},
   "outputs": [],
   "source": [
    "def Benchmark_Simulation(model, pi_s, load_list):\n",
    "    total_reward = 0\n",
    "    next_state = 0\n",
    "    for i in range(1000):\n",
    "        #print('initial state',model['get_state_exp'](next_state))\n",
    "        predicted_optimal_action = get_benchmark_action(next_state)\n",
    "        #print('predicted optimal action:',predicted_optimal_action)\n",
    "        reward = model['get_rewards'](next_state, predicted_optimal_action)\n",
    "        #print('reward is:', reward)\n",
    "        total_reward += reward\n",
    "        truck_location, day, trailer, load = model['get_actual_next_grid_state'](predicted_optimal_action, (next_state))\n",
    "        load = load_list[i]\n",
    "        next_state = model['get_numeric_state_nomadic_trucker'](truck_location, day, trailer, load) # move to next state\n",
    "    return total_reward"
   ]
  },
  {
   "cell_type": "code",
   "execution_count": 24,
   "metadata": {},
   "outputs": [],
   "source": [
    "# possible states\n",
    "s = [2, 3]\n",
    "\n",
    "# possible days\n",
    "d = [1, 3, 7]\n",
    "\n",
    "# possible trailer types\n",
    "t = [1, 3, 3]"
   ]
  },
  {
   "cell_type": "code",
   "execution_count": 25,
   "metadata": {},
   "outputs": [
    {
     "name": "stdout",
     "output_type": "stream",
     "text": [
      "Result for 64 states: 141511.68849500018\n",
      "Result for 576 states: 227752.41226500002\n",
      "Result for 1344 states: 207324.981055\n",
      "Result for 4608 states: 346903.63302666694\n",
      "Result for 41472 states: 104213.54595333328\n",
      "Result for 96768 states: 104213.54595333328\n"
     ]
    }
   ],
   "source": [
    "for size in s:\n",
    "    for days, trailers in zip(d,t):\n",
    "        model = nomadictrucker(size,days,trailers)\n",
    "        pi_s = pickle.load(open(\"Benchmark\"+str(len(model['states']))+\".pickle\",\"rb\"))\n",
    "        load_list = pickle.load(open(\"Load_\"+str(size)+\"_\"+str(days)+\".pickle\", \"rb\"))\n",
    "        Result = Benchmark_Simulation(model, pi_s, load_list)\n",
    "        print(\"Result for\",str(len(model['states'])), \"states:\", Result)"
   ]
  },
  {
   "cell_type": "code",
   "execution_count": null,
   "metadata": {},
   "outputs": [],
   "source": []
  }
 ],
 "metadata": {
  "kernelspec": {
   "display_name": "Python 3",
   "language": "python",
   "name": "python3"
  },
  "language_info": {
   "codemirror_mode": {
    "name": "ipython",
    "version": 3
   },
   "file_extension": ".py",
   "mimetype": "text/x-python",
   "name": "python",
   "nbconvert_exporter": "python",
   "pygments_lexer": "ipython3",
   "version": "3.7.6"
  }
 },
 "nbformat": 4,
 "nbformat_minor": 4
}
